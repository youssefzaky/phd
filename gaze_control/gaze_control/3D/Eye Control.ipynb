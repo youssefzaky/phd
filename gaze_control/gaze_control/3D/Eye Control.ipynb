{
 "metadata": {
  "name": "",
  "signature": "sha256:95389b220fbff118393766bd441b0a0ca7d3ae0d5a96a42feda1fc0103f25ec4"
 },
 "nbformat": 3,
 "nbformat_minor": 0,
 "worksheets": [
  {
   "cells": [
    {
     "cell_type": "heading",
     "level": 3,
     "metadata": {},
     "source": [
      "Modelling the Eye in 3D"
     ]
    },
    {
     "cell_type": "markdown",
     "metadata": {},
     "source": [
      "The eye is modeled as a sphere with center $O$. We fix a *head-fixed* coordinate system $xyz$ whose origin coincides with the center of the eye. The $x$-axis is aligned with the line of sight when the eye is in primary position. Reflecting the unit vector in this direction, $(1, 0, 0)$, across the $y$-$z$ plane, and multiplying the radius of the sphere, we get the location of the fovea, $(-r, 0, 0)$, at primary position. \n",
      "\n",
      "NOTE: primary position doesn't coincide with the center of gaze (i.e. straight ahead), and can vary between subjects and species.\n",
      "\n",
      "Since the eye is modeled as a sphere that moves with a fixed point (its center), this motion is described by a rotation about a single axis, according to Euler's rotation theorem. "
     ]
    },
    {
     "cell_type": "code",
     "collapsed": false,
     "input": [
      "import matplotlib.pyplot as plt\n",
      "from mpl_toolkits.mplot3d import Axes3D\n",
      "import numpy as np\n",
      "#%matplotlib inline\n",
      "%matplotlib qt"
     ],
     "language": "python",
     "metadata": {},
     "outputs": [
      {
       "output_type": "stream",
       "stream": "stderr",
       "text": [
        "/usr/local/lib/python2.7/dist-packages/matplotlib-1.5.dev1-py2.7-linux-x86_64.egg/mpl_toolkits/__init__.py:2: UserWarning: Module logging was already imported from /usr/lib/python2.7/logging/__init__.pyc, but /home/youssef/.local/lib/python2.7/site-packages is being added to sys.path\n",
        "  __import__('pkg_resources').declare_namespace(__name__)\n"
       ]
      }
     ],
     "prompt_number": 1
    },
    {
     "cell_type": "code",
     "collapsed": false,
     "input": [
      "def solve_matrix(A, B):\n",
      "    \"\"\"Obtain the matrix that rotates the 3D vector A to 3D vector B \n",
      "    through the plane passing through both.\n",
      "    \n",
      "    Reference: \n",
      "    http://math.stackexchange.com/questions/180418/calculate-rotation-matrix-to-align-vector-a-to-vector-b-in-3d/180436#180436\n",
      "    \"\"\"\n",
      "    \n",
      "    A /= np.linalg.norm(A)\n",
      "    B /= np.linalg.norm(B)\n",
      "    c = - np.cross(A, B)\n",
      "    d = np.dot(A, B)\n",
      "    \n",
      "    G = np.array([[d, - np.linalg.norm(c), 0], [np.linalg.norm(c), d, 0], [0, 0, 1]])\n",
      "    v = B - d * A\n",
      "    v /= np.linalg.norm(v)\n",
      "    F = np.array([A, v, c])\n",
      "    R = np.dot(np.dot(np.linalg.inv(F), G), F)\n",
      "    return R\n",
      "\n",
      "    \n",
      "def derivative(x, dt):\n",
      "    return (x[1:] - x[:-1]) / dt"
     ],
     "language": "python",
     "metadata": {},
     "outputs": [],
     "prompt_number": 2
    },
    {
     "cell_type": "code",
     "collapsed": false,
     "input": [
      "from Quaternion import Quat\n",
      "\n",
      "class Eye(object):\n",
      "    \n",
      "    def __init__(self, radius=2):\n",
      "        self.r = radius\n",
      "        self.reset()\n",
      "        self.quat = Quat([0, 0, 0, 1]) # x, y, z, w form. Initial quaternion is identity \n",
      "        \n",
      "        self.dt = 0.001\n",
      "        \n",
      "        # parametrization of a sphere\n",
      "        u = np.linspace(0, 2 * np.pi, 100)\n",
      "        v = np.linspace(0, np.pi, 100)\n",
      "        \n",
      "        # spherical surface\n",
      "        self.x = self.r * np.outer(np.cos(u), np.sin(v))\n",
      "        self.y = self.r * np.outer(np.sin(u), np.sin(v))\n",
      "        self.z = self.r * np.outer(np.ones(np.size(u)), np.cos(v))\n",
      "        \n",
      "        # retinal surface\n",
      "        # u = np.linspace(0, np.pi, 100)\n",
      "        # v = np.linspace(np.pi + 1, 2 * np.pi - 1, 100)\n",
      "        # self.rx = self.r * np.outer(np.sin(u), np.sin(v))\n",
      "        # self.ry = self.r * np.outer(np.cos(u), np.sin(v))\n",
      "        # self.rz = self.r * np.outer(np.ones(np.size(u)), np.cos(v))\n",
      "        \n",
      "    @property\n",
      "    def q(self):\n",
      "        return self.quat.q\n",
      "        \n",
      "    def initialize_eye(self):\n",
      "        \n",
      "        # circles\n",
      "        u = np.pi / 2 \n",
      "        v = np.linspace(np.pi, 2 * np.pi, 100)\n",
      "        self.c1x = self.r * np.sin(u) * np.sin(v)\n",
      "        self.c1y = self.r * np.cos(u) * np.sin(v)\n",
      "        self.c1z = self.r * np.cos(v)\n",
      "        \n",
      "        u = np.linspace(0, np.pi, 100)\n",
      "        v = 3./2 * np.pi \n",
      "        self.c2x = self.r * np.sin(u) * np.sin(v)\n",
      "        self.c2y = self.r * np.cos(u) * np.sin(v)\n",
      "        self.c2z = self.r * np.ones(np.size(u)) * np.cos(v)\n",
      "        \n",
      "        # save as matrices to easily apply rotations\n",
      "        self.c1 = np.array([self.c1x, self.c1y, self.c1z])\n",
      "        self.c2 = np.array([self.c2x, self.c2y, self.c2z])\n",
      "        \n",
      "        # eye fixed axis, rotates with the eye\n",
      "        self.efx = [1, 0, 0]\n",
      "        self.efy = [0, 1, 0]\n",
      "        self.efz = [0, 0, 1]\n",
      "    \n",
      "    def reset(self):\n",
      "        self.fovea = np.array([-self.r, 0 , 0])\n",
      "        self.entry = np.array([self.r, 0, 0])\n",
      "        self.update_gaze()\n",
      "        self.initialize_eye()\n",
      "        self.torsion = 0\n",
      "        \n",
      "    def apply_vel(self, ang_vel):\n",
      "        \"\"\"Apply an angular velocity vector for one timestep\"\"\"\n",
      "        vel = np.cross(ang_vel, self.fovea)\n",
      "        self.fovea = self.fovea + self.dt * vel\n",
      "        vel = np.cross(ang_vel, self.entry)\n",
      "        self.entry = self.entry + self.dt * vel\n",
      "        self.update_gaze()\n",
      "        vel = np.cross(ang_vel, self.efx)\n",
      "        self.efx = self.efx + vel * self.dt\n",
      "        vel = np.cross(ang_vel, self.efy)\n",
      "        self.efy = self.efy + vel * self.dt\n",
      "        vel = np.cross(ang_vel, self.efz)\n",
      "        self.efz = self.efz + vel * self.dt\n",
      "        \n",
      "        # rotate the circles\n",
      "        num_vectors = self.c1.shape[1]\n",
      "        m_ang_vel = np.repeat([ang_vel], num_vectors, axis=0)\n",
      "        vel = np.cross(ang_vel, self.c1.T)\n",
      "        self.c1 = self.c1 + self.dt * vel.T\n",
      "        vel = np.cross(ang_vel, self.c2.T)\n",
      "        self.c2 = self.c2 + self.dt * vel.T\n",
      "        \n",
      "        self.torsion = self.torsion + ang_vel[0] * self.dt\n",
      "              \n",
      "    def update_gaze(self):\n",
      "        self.gaze = (self.entry - self.fovea)\n",
      "        self.gaze = self.entry\n",
      "        \n",
      "    def plot_vector(self, end, direction, **kwargs):\n",
      "        self.ax.quiver([end[0]], [end[1]], [end[2]], [direction[0]], \n",
      "                        [direction[1]], [direction[2]], length=np.linalg.norm(direction), **kwargs)\n",
      "        \n",
      "    def plot(self, target=None):\n",
      "        self.figure = plt.figure()\n",
      "        self.ax = self.figure.add_subplot(111, projection='3d')\n",
      "        self.ax.plot_surface(self.x, self.y, self.z, color='y', linewidth=0, antialiased=False, alpha=0.2)\n",
      "        # self.ax.plot_surface(self.rx, self.ry, self.rz, color='m', linewidth=0, antialiased=False, alpha=0.2)\n",
      "        self.ax.plot(xs=self.c1[0], ys=self.c1[1], zs=self.c1[2], color='k', label='ver')\n",
      "        self.ax.plot(xs=self.c2[0], ys=self.c2[1], zs=self.c2[2], color='c', label='hor')\n",
      "        self.ax.plot([self.fovea[0]], [self.fovea[1]], [self.fovea[2]], marker='x')\n",
      "        self.ax.quiver([self.entry[0]], [self.entry[1]], [self.entry[2]], [self.gaze[0]], \n",
      "                  [self.gaze[1]], [self.gaze[2]], length=2 * self.r, color='r')\n",
      "        self.ax.quiver(self.r, 0, 0, self.r, 0, 0, length=2 * self.r)\n",
      "        \n",
      "        if target is not None:\n",
      "            self.ax.plot([target[0]], [target[1]], [target[2]], marker='o', markersize=10, color='g')\n",
      "            ret = eye.retinal(target) \n",
      "            eye.ax.plot([ret[0]], [ret[1]], [ret[2]], marker='o', markersize=10)\n",
      "        \n",
      "        self.ax.set_xlabel('x')\n",
      "        self.ax.set_ylabel('y')\n",
      "        self.ax.set_zlabel('z')\n",
      "        self.ax.legend(loc='best')\n",
      "        \n",
      "    def retinal(self, target):\n",
      "        \"\"\"Calculates the point of intersection of the straight line from the target to the entry point with\n",
      "        the back of the sphere, i.e, the retina\"\"\"\n",
      "        direc = self.entry - target\n",
      "        a = direc[0]**2 + direc[1]**2 + direc[2]**2\n",
      "        b = 2 * target[0] * direc[0] + 2 * target[1] * direc[1] + 2 * target[2] * direc[2]\n",
      "        c = target[0]**2 + target[1]**2 + target[2]**2 - self.r**2\n",
      "        return target + np.amax(np.roots([a, b, c])) * direc\n",
      "        \n",
      "    def foveate(self, target, plot=True, tolerance=0.1):\n",
      "        \n",
      "        t = 0.0\n",
      "        if plot:\n",
      "            ret = eye.retinal(target) \n",
      "            self.plot(target)\n",
      "            eye.plot_vector(ret, ret - target, color='g')\n",
      "            \n",
      "        error_2D = eye.gaze_error_2D(target)\n",
      "        print 'initial 2D error', error_2D\n",
      "        fovea_traj = [self.fovea]\n",
      "        entry_traj = [self.entry]\n",
      "        error_2D = eye.gaze_error_2D(target)\n",
      "        # think of this 2D error as lying in a plane centered on the fovea,\n",
      "        # and orthogonal to the line of gaze. The computation of the x-coordinate of a circle gives\n",
      "        # the length of that circle in the line of gaze direction. To get the height from the plane, however,\n",
      "        # this value needs to be subtracted from the radius\n",
      "        #x = self.r - np.sqrt(np.maximum((self.r ** 2) - (error_2D[0] ** 2) - (error_2D[1] ** 2), 0))\n",
      "        #ret = self.fovea + [x, error_2D[0], error_2D[1]]\n",
      "        #error_3D = ret - eye.fovea\n",
      "        ret = self.retinal(target)\n",
      "        error_3D = self.retinal(target) - eye.fovea\n",
      "        if plot: eye.plot_vector(ret, error_3D, color='b')\n",
      "        a = np.cross(self.gaze, error_3D)\n",
      "        a /= np.linalg.norm(a)\n",
      "\n",
      "        while np.linalg.norm(error_2D) > tolerance:\n",
      "            self.apply_vel(-a * np.linalg.norm(error_3D)) \n",
      "            error_2D = eye.gaze_error_2D(target)\n",
      "            fovea_traj.append(self.fovea)\n",
      "            entry_traj.append(self.entry)\n",
      "            t += self.dt\n",
      "            \n",
      "        ftraj = np.array(fovea_traj)\n",
      "        etraj = np.array(entry_traj)\n",
      "\n",
      "        if plot:\n",
      "            self.plot(target)\n",
      "            ret = self.retinal(target)\n",
      "            ret_2D = ret[0:2]\n",
      "            self.ax.plot([ret[0]], [ret[1]], [ret[2]], marker='o', markersize=10, color='r')\n",
      "            self.ax.plot(ftraj[:, 0], ftraj[:, 1], ftraj[:, 2], color='r')\n",
      "            self.plot_vector(3*a, 3*a, color='g')\n",
      "                            \n",
      "        print 'final 2D error', eye.gaze_error_2D(target)\n",
      "        return etraj, t\n",
      "        \n",
      "    def foveate2(self, target, plot=True):\n",
      "        # think of this 2D error as lying in a plane centered on the fovea,\n",
      "        # and orthogonal to the line of gaze. The computation of the x-coordinate of a circle gives\n",
      "        # the length of that circle in the line of gaze direction. To get the height from the plane, however,\n",
      "        # this value needs to be subtracted from the radius\n",
      "        error_2D = eye.gaze_error_2D(target)\n",
      "        print 'initial 2D error', error_2D\n",
      "        fovea_traj = [self.fovea]\n",
      "        x = self.r - np.sqrt(np.maximum((self.r ** 2) - (error_2D[0] ** 2) - (error_2D[1] ** 2), 0))\n",
      "        ret = self.fovea + [x, error_2D[0], error_2D[1]]\n",
      "        d = eye.entry - ret\n",
      "        d /= np.linalg.norm(d)\n",
      "        q_d = Quat(solve_matrix(d, [0, 0, 1]))\n",
      "        q = self.quat\n",
      "        E = q_d * q.inv()\n",
      "        for i in range(3000):\n",
      "        #while np.linalg.norm(E.q - [0, 0, 0, 1]) > 0.1:  \n",
      "            self.apply_vel(E.q[:3])\n",
      "            temp = E.q / 2.0\n",
      "            q_dot = (Quat([temp[0], temp[1], temp[2], 0]) * q) \n",
      "            temp = q.q + q_dot.q * self.dt\n",
      "            q = Quat(temp / np.linalg.norm(temp))\n",
      "            E = q_d * q.inv()\n",
      "            fovea_traj.append(self.fovea)\n",
      "        traj = np.array(fovea_traj)\n",
      "        print 'E', E.q\n",
      "        print 'q', q.q\n",
      "        \n",
      "        if plot:\n",
      "            self.plot(target)\n",
      "            ret = self.retinal(target)\n",
      "            ret_2D = ret[0:2]\n",
      "            self.ax.plot([ret[0]], [ret[1]], [ret[2]], marker='o', markersize=10, color='r')\n",
      "            self.ax.plot(traj[:, 0], traj[:, 1], traj[:, 2], color='r')\n",
      "            \n",
      "        print 'final 2D error', eye.gaze_error_2D(target)\n",
      "                \n",
      "    def apply_rotation(self, R):\n",
      "        \"\"\"Apply a rotation through a rotation matrix R\"\"\"\n",
      "        self.fovea = np.dot(R, self.fovea)\n",
      "        self.entry = np.dot(R, self.entry)\n",
      "        self.update_gaze()\n",
      "        \n",
      "        self.c1 = np.dot(R, self.c1)\n",
      "        self.c2 = np.dot(R, self.c2)\n",
      "        self.efx = np.dot(R, self.efx)\n",
      "        self.efy = np.dot(R, self.efy)\n",
      "        self.efz = np.dot(R, self.efz)\n",
      "        \n",
      "        \n",
      "    def gaze_error_2D(self, target):\n",
      "        \"\"\"Project onto the eye-fixed axes to obtain retinal error\"\"\"\n",
      "        retinal = self.retinal(target)\n",
      "        error_3D = retinal - self.fovea\n",
      "        proj_y = np.dot(error_3D, self.efy)  \n",
      "        proj_z = np.dot(error_3D, self.efz)\n",
      "        error_2D = np.array([proj_y, proj_z])\n",
      "        return error_2D\n"
     ],
     "language": "python",
     "metadata": {},
     "outputs": [],
     "prompt_number": 65
    },
    {
     "cell_type": "markdown",
     "metadata": {},
     "source": [
      "Here is a plot of the eye in primary position along with the gaze vector. The '$x$' marks the location of the fovea"
     ]
    },
    {
     "cell_type": "code",
     "collapsed": false,
     "input": [
      "eye = Eye()\n",
      "eye.plot()"
     ],
     "language": "python",
     "metadata": {},
     "outputs": []
    },
    {
     "cell_type": "markdown",
     "metadata": {},
     "source": [
      "When the eye rotates with an angular velocity $w$ ($w$ is 3D), the velocity of any point on the eye is given by:\n",
      "\n",
      "$$ \\dot{r} = r \\times w $$\n",
      "\n",
      "where $r$ is the position of the point in space.\n",
      "\n",
      "Given this velocity vector, we can simulate how the eye rotates, keeping track of the fovea and the entry point. The figure below shows a rotation about the z-axis. The gaze in primary position is always shown by the blue vector, and the current gaze is given by the red vector."
     ]
    },
    {
     "cell_type": "code",
     "collapsed": false,
     "input": [
      "for i in range(500):\n",
      "    eye.apply_vel([0, 0, -1]) # rotate about the z axis\n",
      "    \n",
      "eye.plot()"
     ],
     "language": "python",
     "metadata": {},
     "outputs": []
    },
    {
     "cell_type": "heading",
     "level": 3,
     "metadata": {},
     "source": [
      "Foveating a Target"
     ]
    },
    {
     "cell_type": "markdown",
     "metadata": {},
     "source": [
      "The figure below shows a spatial target, the location (red dot) where the target appears on the retina, and the vector from the target to the retinal location:"
     ]
    },
    {
     "cell_type": "code",
     "collapsed": false,
     "input": [
      "eye.reset()\n",
      "target = [10, -7, -8]\n",
      "ret = eye.retinal(target) \n",
      "eye.plot()\n",
      "eye.ax.plot([target[0]], [target[1]], [target[2]], marker='o', markersize=10)\n",
      "eye.ax.plot([ret[0]], [ret[1]], [ret[2]], marker='o', markersize=10)\n",
      "eye.plot_vector(ret, ret - target, color='g')\n",
      "\n",
      "ret_error = eye.gaze_error_2D(target)\n",
      "print \"Retinal Error:\", ret_error\n",
      "\n",
      "plt.figure()\n",
      "ax = plt.subplot(111)\n",
      "ax.plot(ret_error[0], ret_error[1], marker='o', markersize=20, color='r')\n",
      "ax.set_xlim((0, 2))\n",
      "ax.set_ylim((-2, 2))\n",
      "\n",
      "eye.foveate(target);"
     ],
     "language": "python",
     "metadata": {},
     "outputs": [
      {
       "output_type": "stream",
       "stream": "stdout",
       "text": [
        "Retinal Error: [ 1.26553672  1.44632768]\n",
        "initial 2D error"
       ]
      },
      {
       "output_type": "stream",
       "stream": "stdout",
       "text": [
        " [ 1.26553672  1.44632768]\n",
        "final 2D error"
       ]
      },
      {
       "output_type": "stream",
       "stream": "stdout",
       "text": [
        " [ 0.06152376  0.07031287]\n"
       ]
      }
     ],
     "prompt_number": 66
    },
    {
     "cell_type": "markdown",
     "metadata": {},
     "source": [
      "The axis that we should rotate about to align the gaze with this target is given by:\n",
      "\n",
      "\\begin{equation} a = g \\times target \\end{equation}\n",
      "\n",
      "where $g$ is the gaze vector, $target$ is the vector from the target to the retina. When the gaze has aligned with the target, this cross-product is zero. \n",
      "\n",
      "If we consider the vector $g$ as fixed, then the cross-product is a linear operation."
     ]
    },
    {
     "cell_type": "code",
     "collapsed": false,
     "input": [
      "eye = Eye()\n",
      "target = [10, 5, 0]\n",
      "traj, t = eye.foveate(target, plot=True)\n",
      "target = [10, 1, 4]\n",
      "eye.foveate(target, plot=True,);\n",
      "target = [8, -1, -2]\n",
      "eye.foveate(target, plot=True);\n",
      "target = [15, 10, 0]\n",
      "eye.foveate(target, plot=True);\n",
      "target = [15, 0, -10]\n",
      "eye.foveate(target, plot=True);\n",
      "target = [8, 5, -1]\n",
      "eye.foveate(target, plot=True);\n",
      "target = [9, -2, 8]\n",
      "eye.foveate(target, plot=True);\n",
      "target = [20, 10, 10]\n",
      "eye.foveate(target, plot=True);\n",
      "target = [20, -1, -3]\n",
      "eye.foveate(target, plot=True);"
     ],
     "language": "python",
     "metadata": {},
     "outputs": [
      {
       "output_type": "stream",
       "stream": "stdout",
       "text": [
        "initial 2D error [-1.79775281  0.        ]\n",
        "final 2D error"
       ]
      },
      {
       "output_type": "stream",
       "stream": "stdout",
       "text": [
        " [-0.08991479  0.        ]\n",
        "initial 2D error"
       ]
      },
      {
       "output_type": "stream",
       "stream": "stdout",
       "text": [
        " [ 1.22124806 -1.4344625 ]\n",
        "final 2D error"
       ]
      },
      {
       "output_type": "stream",
       "stream": "stdout",
       "text": [
        " [ 0.05855009 -0.06877219]\n",
        "initial 2D error"
       ]
      },
      {
       "output_type": "stream",
       "stream": "stdout",
       "text": [
        " [ 0.86300938  1.79517987]\n",
        "final 2D error"
       ]
      },
      {
       "output_type": "stream",
       "stream": "stdout",
       "text": [
        " [ 0.03698748  0.07693912]\n",
        "initial 2D error"
       ]
      },
      {
       "output_type": "stream",
       "stream": "stdout",
       "text": [
        " [-1.96500691 -0.35875933]\n",
        "final 2D error"
       ]
      },
      {
       "output_type": "stream",
       "stream": "stdout",
       "text": [
        " [-0.08894403 -0.01623887]\n",
        "initial 2D error"
       ]
      },
      {
       "output_type": "stream",
       "stream": "stdout",
       "text": [
        " [ 1.47705613  1.3046114 ]\n",
        "final 2D error"
       ]
      },
      {
       "output_type": "stream",
       "stream": "stdout",
       "text": [
        " [ 0.06592112  0.0582249 ]\n",
        "initial 2D error"
       ]
      },
      {
       "output_type": "stream",
       "stream": "stdout",
       "text": [
        " [-1.59807883 -1.18515322]\n",
        "final 2D error"
       ]
      },
      {
       "output_type": "stream",
       "stream": "stdout",
       "text": [
        " [-0.06799731 -0.05042757]\n",
        "initial 2D error"
       ]
      },
      {
       "output_type": "stream",
       "stream": "stdout",
       "text": [
        " [ 0.5155712  -1.06979964]\n",
        "final 2D error"
       ]
      },
      {
       "output_type": "stream",
       "stream": "stdout",
       "text": [
        " [ 0.03786353 -0.07856604]\n",
        "initial 2D error"
       ]
      },
      {
       "output_type": "stream",
       "stream": "stdout",
       "text": [
        " [-1.50493796  1.25416648]\n",
        "final 2D error"
       ]
      },
      {
       "output_type": "stream",
       "stream": "stdout",
       "text": [
        " [-0.07288908  0.0607434 ]\n",
        "initial 2D error"
       ]
      },
      {
       "output_type": "stream",
       "stream": "stdout",
       "text": [
        " [ 1.46609602  1.3590673 ]\n",
        "final 2D error"
       ]
      },
      {
       "output_type": "stream",
       "stream": "stdout",
       "text": [
        " [ 0.06987101  0.06477025]\n"
       ]
      }
     ],
     "prompt_number": 42
    },
    {
     "cell_type": "code",
     "collapsed": false,
     "input": [
      "# saccade main sequence\n",
      "\n",
      "eye = Eye()\n",
      "x, y, z = 10.0, 1.0, 0.0\n",
      "target = np.array([x, y, z])\n",
      "hor_vel = []\n",
      "\n",
      "plt.figure()\n",
      "\n",
      "for i in range(10):\n",
      "    eye.reset()\n",
      "    target += [0, 1, 0]\n",
      "    traj, t = eye.foveate(target, plot=False)\n",
      "    amplitude = np.arctan(target[1] / x) / (2 * np.pi) * 360\n",
      "    plt.plot(np.arange(eye.dt, t, eye.dt), derivative(traj[:, 1], eye.dt), label='%s' % amplitude)\n",
      "    \n",
      "plt.legend(loc='best')    "
     ],
     "language": "python",
     "metadata": {},
     "outputs": [
      {
       "output_type": "stream",
       "stream": "stdout",
       "text": [
        "initial 2D error [-0.94117647  0.        ]\n",
        "final 2D error"
       ]
      },
      {
       "output_type": "stream",
       "stream": "stdout",
       "text": [
        " [-0.09879022  0.        ]\n",
        "initial 2D error [-1.31506849  0.        ]\n",
        "final 2D error"
       ]
      },
      {
       "output_type": "stream",
       "stream": "stdout",
       "text": [
        " [-0.09393022  0.        ]\n",
        "initial 2D error [-1.6  0. ]\n",
        "final 2D error"
       ]
      },
      {
       "output_type": "stream",
       "stream": "stdout",
       "text": [
        " [-0.09412406  0.        ]\n",
        "initial 2D error [-1.79775281  0.        ]\n",
        "final 2D error"
       ]
      },
      {
       "output_type": "stream",
       "stream": "stdout",
       "text": [
        " [-0.08991479  0.        ]\n",
        "initial 2D error [-1.92  0.  ]\n",
        "final 2D error"
       ]
      },
      {
       "output_type": "stream",
       "stream": "stdout",
       "text": [
        " [-0.09479152  0.        ]\n",
        "initial 2D error [-1.98230088  0.        ]\n",
        "final 2D error"
       ]
      },
      {
       "output_type": "stream",
       "stream": "stdout",
       "text": [
        " [-0.09914744  0.        ]\n",
        "initial 2D error [-2.  0.]\n",
        "final 2D error"
       ]
      },
      {
       "output_type": "stream",
       "stream": "stdout",
       "text": [
        " [-0.08802936  0.        ]\n",
        "initial 2D error [-1.9862069  0.       ]\n",
        "final 2D error"
       ]
      },
      {
       "output_type": "stream",
       "stream": "stdout",
       "text": [
        " [-0.08607965  0.        ]\n",
        "initial 2D error [-1.95121951  0.        ]\n",
        "final 2D error"
       ]
      },
      {
       "output_type": "stream",
       "stream": "stdout",
       "text": [
        " [-0.09402345  0.        ]\n",
        "initial 2D error [-1.9027027  0.       ]\n",
        "final 2D error"
       ]
      },
      {
       "output_type": "stream",
       "stream": "stdout",
       "text": [
        " [-0.09728967  0.        ]\n"
       ]
      },
      {
       "metadata": {},
       "output_type": "pyout",
       "prompt_number": 39,
       "text": [
        "<matplotlib.legend.Legend at 0x6953c90>"
       ]
      }
     ],
     "prompt_number": 39
    },
    {
     "cell_type": "code",
     "collapsed": false,
     "input": [
      "eye.reset()\n",
      "q = Quat([  -7.42249005e-05 , -1.49775246e-04  ,-7.09760276e-21  , 9.99999986e-01])\n",
      "eye.apply_rotation(q.transform)\n",
      "eye.plot()"
     ],
     "language": "python",
     "metadata": {},
     "outputs": [
      {
       "metadata": {},
       "output_type": "display_data",
       "png": "[encoded data removed]",
       "text": [
        "<matplotlib.figure.Figure at 0x40f0510>"
       ]
      }
     ],
     "prompt_number": 17
    },
    {
     "cell_type": "code",
     "collapsed": false,
     "input": [
      "eye = Eye()\n",
      "target = [10, -7, -8]\n",
      "ret = eye.retinal(target)\n",
      "d = eye.entry - ret\n",
      "d /= np.linalg.norm(d)\n",
      "R = solve_matrix([1, 0, 0], d)\n",
      "q = Quat(R)\n",
      "eye.apply_rotation(q.transform)\n",
      "print q.q\n",
      "eye.plot()"
     ],
     "language": "python",
     "metadata": {},
     "outputs": []
    },
    {
     "cell_type": "markdown",
     "metadata": {},
     "source": [
      "Let's foveate another target from this position:"
     ]
    },
    {
     "cell_type": "code",
     "collapsed": false,
     "input": [
      "target = [8, 1, 1.5]\n",
      "eye.foveate(target, plot=True)"
     ],
     "language": "python",
     "metadata": {},
     "outputs": []
    },
    {
     "cell_type": "markdown",
     "metadata": {},
     "source": [
      "In this model, a series of computational steps must be performed in order to foveate a target, assuming the head is restrained:\n",
      "\n",
      "<ol>\n",
      "    <li> The brain only has access to the target's location through its projection onto the retina. This projection gives a 2D retinal error vector from the fovea to the target lying in the retina. This 2D error vector must be converted to a 3D error vector based on the curvature of the eye. </li>\n",
      "    <li> The axis of rotation is computed through the cross-product, and this is dependent on the current eye orientation. </li>\n",
      "    <li> There are six neural populations that drive the extraocular eye muscles. So the command to rotate about this axis must then be converted to a six-dimensional vector, and these signals must also compensate for dynamics of the eye. </li>\n",
      "</ol>"
     ]
    },
    {
     "cell_type": "heading",
     "level": 3,
     "metadata": {},
     "source": [
      "Donder's and Listing's laws"
     ]
    },
    {
     "cell_type": "markdown",
     "metadata": {},
     "source": [
      "So far, we have focused on aligning the gaze direction with a spatial target. However, there is another degree of freedom that we've been ignoring so far, namely ocular torsion. Ocular torsion is defined as a rotation about the line of sight. The figure below shows an example of this:"
     ]
    },
    {
     "cell_type": "code",
     "collapsed": false,
     "input": [
      "eye.reset()\n",
      "for _ in range(1800):\n",
      "    eye.apply_vel(eye.gaze/np.linalg.norm(eye.gaze))\n",
      "eye.plot()\n",
      "print eye.torsion / (2 * np.pi) * 360"
     ],
     "language": "python",
     "metadata": {},
     "outputs": []
    },
    {
     "cell_type": "markdown",
     "metadata": {},
     "source": [
      "As implemented by the nervous system, ocular torsion is not random: each gaze direction is assigned a \n",
      "*unique* amount of torsion. This is known as **Donder's law**. **Listing's law** is a special case of the latter, quantitatively specifying the amount of torsion. Listing's law can be described as follows <cite data-cite=\"Crawford2011\">[Crawford, 2011]</cite>: \n",
      "\n",
      "Aligning our coordinate system with the eye in primary position (as we have done in our case), any eye orientation can be descibed as a rotation about an axis in this coordinate system. Listing's law states this axis lies in a plane that is orthogonal to the line of sight when the eye is in primary position. In our $xyz$ coordinate system, Listing's plane is the $yz$ plane. In other words, the torsional component of the rotation is zero, where torsion here is rotation about the $x$-axis.\n",
      "\n",
      "NOTE: Listing's law says nothing about the axis that the eye rotates about *during* a movement (the axis of rotation), it simply states that the final orientation can be described as a rotation about an axis lying in Listing's plane. In fact, if the axis of rotation were to remain in Listing's plane, the final orientation would violate Listing's law <cite data-cite=\"Crawford1991\">[Crawford and Vilis 1991] </cite>. Moreover, the axis of rotation tilts out of Listing's plane in a position-dependent manner  <cite data-cite=\"Angelaki2011\">[Angelaki 2011] </cite>. This is consistent with the equation describing the axis of rotation above.\n",
      "\n",
      "NOTE: Here we've assumed that he head-fixed coordinate system that we've chosen, and based on which we compute motor commands, is aligned with Listing's coordinates. However there is good evidence that the axes of the neural populations controlling the extraocular muscles are aligned with Listing's coordinates <cite data-cite=\"Crawford2011\">[Crawford, 2011]</cite>, justifying this assumption. "
     ]
    },
    {
     "cell_type": "code",
     "collapsed": false,
     "input": [
      "target = [10, -7, -8]\n",
      "eye.reset()\n",
      "eye.foveate(target, plot=True, plot_axes=True)"
     ],
     "language": "python",
     "metadata": {},
     "outputs": []
    },
    {
     "cell_type": "markdown",
     "metadata": {},
     "source": [
      "Notice that the axes of rotation are close to Listing's plane, but are lie outside most of the time. However the final eye orientation satisfies Listing's law. We can confirm this in the following way: rotate the gaze vector from primary position to the current gaze vector according to a rotation in Listing's plane, and see if we get the same eye orientation:"
     ]
    },
    {
     "cell_type": "code",
     "collapsed": false,
     "input": [
      "R = solve_matrix([1, 0, 0], eye.gaze)\n",
      "eye.reset()\n",
      "eye.apply_rotation(R)\n",
      "eye.plot(target)\n",
      "\n",
      "eye.reset()\n",
      "eye.foveate(target, plot=True)"
     ],
     "language": "python",
     "metadata": {},
     "outputs": []
    },
    {
     "cell_type": "markdown",
     "metadata": {},
     "source": [
      "Let's check it for a rotation that doesn't start from primary position:"
     ]
    },
    {
     "cell_type": "code",
     "collapsed": false,
     "input": [
      "target = [8, 1, 1.5]\n",
      "eye.foveate(target, plot=True)\n",
      "\n",
      "R = solve_matrix([1, 0, 0], eye.gaze)\n",
      "eye.reset()\n",
      "eye.apply_rotation(R)\n",
      "eye.plot(target)"
     ],
     "language": "python",
     "metadata": {},
     "outputs": []
    },
    {
     "cell_type": "heading",
     "level": 3,
     "metadata": {},
     "source": [
      "Quaternion Model"
     ]
    },
    {
     "cell_type": "heading",
     "level": 5,
     "metadata": {},
     "source": [
      "Quaternion Basics:"
     ]
    },
    {
     "cell_type": "markdown",
     "metadata": {},
     "source": [
      "Quaternions are mathematically convenient 4-dimensional vectors used to describe rotations. A quaternion $q$ can be written as:\n",
      "\n",
      "$$q = (q_0, q_1, q_2, q_3) = q_0 + \\textbf{q} = |q|(cos \\theta + \\textbf{n} sin \\theta) $$\n",
      "\n",
      "$\\textbf{q}$ is called the vector part of $q$, $q_0$ is the scalar part. $\\theta$ is called the **angle** of the quaternion.\n",
      "\n",
      "Quaternions have a special multiplication defined on them that is noncommutative:\n",
      "$$pq = (p_0q_0 - \\textbf{p} \\cdot \\textbf{q}) + (p_0 \\textbf{q} + q_0 \\textbf{p} + \\textbf{p} \\times \\textbf{q}) $$\n",
      "\n",
      "<ul>\n",
      "    <li> $q^* = q_0 - \\textbf{q}$ is the conjugate quaternion. </li>\n",
      "    <li> $q^{-1} = \\frac{q^*}{|q|^2}$ </li>\n",
      "</ul>\n",
      "\n",
      "**Theorem**: For any unit quaternion $q = q_0 + \\textbf{q} = cos\\theta + \\textbf{n}sin \\theta$ and any vector $v \\in \\mathcal{R}^3$, the operator \n",
      "\n",
      "$$L_q(v) = qvq^{*}$$\n",
      "\n",
      "on $v$ may be interpreted geometrically as a rotation of $v$ through an angle $2\\theta$ about $\\textbf{q}$."
     ]
    },
    {
     "cell_type": "heading",
     "level": 5,
     "metadata": {},
     "source": [
      "Quaternion Derivative:"
     ]
    },
    {
     "cell_type": "markdown",
     "metadata": {},
     "source": [
      "$\\dot{q} = \\frac{w}{2}q$\n",
      "\n",
      "where $w$ is the 3D angular velocity. \n",
      "\n",
      "This property of quaternions is crucial for constructing the feedback model of saccade control."
     ]
    },
    {
     "cell_type": "code",
     "collapsed": false,
     "input": [
      "from IPython.display import Image\n",
      "Image(filename='quaternion_model.png')"
     ],
     "language": "python",
     "metadata": {},
     "outputs": []
    },
    {
     "cell_type": "markdown",
     "metadata": {},
     "source": [
      "The $E$ in the model is quaternion error. If the eye is in orientation $q$, and the desired orientation is $q^d$, then \n",
      "$$ q^d = Eq $$.\n",
      "\n",
      "i.e., a rotation by $q$ followed by a rotation by $E$. "
     ]
    },
    {
     "cell_type": "heading",
     "level": 3,
     "metadata": {},
     "source": [
      "Dynamics"
     ]
    },
    {
     "cell_type": "markdown",
     "metadata": {},
     "source": [
      "(Angelaki 2011)\n",
      "<ul>\n",
      "    <li> motoneuron commands balance out to appear 2D </li>\n",
      "    <li> mechanical properties of eye ball provide for an eye position dependent muscle pulling direction, accounting for the 'half-angle rule', necessary to keep eyes in Listing's plane </li>\n",
      "</ul>\n",
      "\n",
      "(Tweed 1987)\n",
      "<ul>\n",
      "    <li> all saccades have fixed rotation axes </li>\n",
      "    <li> </li>"
     ]
    },
    {
     "cell_type": "markdown",
     "metadata": {},
     "source": [
      "The moment of inertia tensor for a sphere of radius r and mass m, over its principal axes, is given by:\n",
      "\n",
      "$$ I = \\begin{bmatrix} \\frac{2}{5}mr^2 & 0 & 0 \\\\\n",
      "                      0 & \\frac{2}{5}mr^2 & 0 \\\\\n",
      "                       0 & 0 & \\frac{2}{5}mr^2\\end{bmatrix} $$"
     ]
    }
   ],
   "metadata": {}
  }
 ]
}